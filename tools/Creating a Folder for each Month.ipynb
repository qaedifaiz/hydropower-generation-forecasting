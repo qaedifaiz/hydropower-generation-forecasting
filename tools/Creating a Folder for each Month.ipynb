{
 "cells": [
  {
   "cell_type": "code",
   "execution_count": null,
   "metadata": {
    "ExecuteTime": {
     "end_time": "2024-10-03T13:57:41.590507Z",
     "start_time": "2024-10-03T13:57:41.579141Z"
    }
   },
   "outputs": [
    {
     "name": "stdout",
     "output_type": "stream",
     "text": [
      "Created folder: C:\\Users\\Qaedi's PC\\Documents\\Master of Data Science\\Research Project\\Dataset\\Power Generation\\2019\\January 2019\n",
      "Created folder: C:\\Users\\Qaedi's PC\\Documents\\Master of Data Science\\Research Project\\Dataset\\Power Generation\\2019\\February 2019\n",
      "Created folder: C:\\Users\\Qaedi's PC\\Documents\\Master of Data Science\\Research Project\\Dataset\\Power Generation\\2019\\March 2019\n",
      "Created folder: C:\\Users\\Qaedi's PC\\Documents\\Master of Data Science\\Research Project\\Dataset\\Power Generation\\2019\\April 2019\n",
      "Created folder: C:\\Users\\Qaedi's PC\\Documents\\Master of Data Science\\Research Project\\Dataset\\Power Generation\\2019\\May 2019\n",
      "Created folder: C:\\Users\\Qaedi's PC\\Documents\\Master of Data Science\\Research Project\\Dataset\\Power Generation\\2019\\June 2019\n",
      "Created folder: C:\\Users\\Qaedi's PC\\Documents\\Master of Data Science\\Research Project\\Dataset\\Power Generation\\2019\\July 2019\n",
      "Created folder: C:\\Users\\Qaedi's PC\\Documents\\Master of Data Science\\Research Project\\Dataset\\Power Generation\\2019\\August 2019\n",
      "Created folder: C:\\Users\\Qaedi's PC\\Documents\\Master of Data Science\\Research Project\\Dataset\\Power Generation\\2019\\September 2019\n",
      "Created folder: C:\\Users\\Qaedi's PC\\Documents\\Master of Data Science\\Research Project\\Dataset\\Power Generation\\2019\\October 2019\n",
      "Created folder: C:\\Users\\Qaedi's PC\\Documents\\Master of Data Science\\Research Project\\Dataset\\Power Generation\\2019\\November 2019\n",
      "Created folder: C:\\Users\\Qaedi's PC\\Documents\\Master of Data Science\\Research Project\\Dataset\\Power Generation\\2019\\December 2019\n"
     ]
    }
   ],
   "source": [
    "import os\n",
    "\n",
    "def generate_month_filenames(target_dir, year):\n",
    "    # List of month names\n",
    "    months = [\n",
    "        \"January\", \"February\", \"March\", \"April\",\n",
    "        \"May\", \"June\", \"July\", \"August\",\n",
    "        \"September\", \"October\", \"November\", \"December\"\n",
    "    ]\n",
    "    \n",
    "    # Create target directory if it doesn't exist\n",
    "    if not os.path.exists(target_dir):\n",
    "        os.makedirs(target_dir)\n",
    "    \n",
    "    # Generate folders for each month\n",
    "    for month in months:\n",
    "        # Create folder name\n",
    "        folder_name = f\"{month} {year}\"\n",
    "        # Join target directory with folder name\n",
    "        folder_path = os.path.join(target_dir, folder_name)\n",
    "        # Create the folder\n",
    "        os.makedirs(folder_path)\n",
    "        print(f\"Created folder: {folder_path}\")\n",
    "\n",
    "# Example usage\n",
    "target_directory = r\"directory\"\n",
    "desired_year = 2019  # Set your desired year here\n",
    "generate_month_filenames(target_directory, desired_year)\n"
   ]
  },
  {
   "cell_type": "code",
   "execution_count": null,
   "metadata": {},
   "outputs": [],
   "source": []
  }
 ],
 "metadata": {
  "kernelspec": {
   "display_name": "Research_Project_Master",
   "language": "python",
   "name": "python3"
  },
  "language_info": {
   "codemirror_mode": {
    "name": "ipython",
    "version": 3
   },
   "file_extension": ".py",
   "mimetype": "text/x-python",
   "name": "python",
   "nbconvert_exporter": "python",
   "pygments_lexer": "ipython3",
   "version": "3.11.8"
  }
 },
 "nbformat": 4,
 "nbformat_minor": 2
}
