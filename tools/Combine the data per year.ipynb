{
 "cells": [
  {
   "cell_type": "code",
   "execution_count": 3,
   "metadata": {
    "ExecuteTime": {
     "end_time": "2024-10-14T15:11:47.302224Z",
     "start_time": "2024-10-14T15:11:45.818776Z"
    }
   },
   "outputs": [],
   "source": [
    "import os\n",
    "import shutil\n",
    "import pandas as pd\n",
    "\n",
    "# Define the column names with 30-minute intervals\n",
    "columns = ['Dates', 'Station', 'Unit'] + [f\"{hour:02d}{minute:02d}\" for hour in range(24) for minute in (0, 30)]"
   ]
  },
  {
   "cell_type": "code",
   "execution_count": null,
   "metadata": {
    "ExecuteTime": {
     "end_time": "2024-10-14T15:13:13.884365Z",
     "start_time": "2024-10-14T15:13:13.872174Z"
    }
   },
   "outputs": [],
   "source": [
    "# Directory containing the Excel files\n",
    "directory = r\"Total Power Per Month File Path\"\n",
    "destination_folder = r\"Time Series Total Power Generation Target Path\"\n",
    "year = '2019'"
   ]
  },
  {
   "cell_type": "code",
   "execution_count": 23,
   "metadata": {
    "ExecuteTime": {
     "end_time": "2024-10-15T14:53:09.158932Z",
     "start_time": "2024-10-15T14:53:08.328615Z"
    }
   },
   "outputs": [],
   "source": [
    "# List to hold dataframes\n",
    "df_list = []\n",
    "\n",
    "# Loop through all files in the directory\n",
    "for filename in os.listdir(directory):\n",
    "    if filename.endswith(\".xlsx\") or filename.endswith(\".xls\"):\n",
    "        filepath = os.path.join(directory, filename)\n",
    "        # Read the Excel file, skipping the header row initially\n",
    "        df = pd.read_excel(filepath, header=None)\n",
    "        # Assign column names\n",
    "        df.columns = columns\n",
    "        # Append the dataframe to the list\n",
    "        df_list.append(df)\n",
    "\n",
    "# Concatenate all dataframes\n",
    "combined_df = pd.concat(df_list, ignore_index=True)\n",
    "\n",
    "# Ensure the 'Dates' column is parsed as datetime\n",
    "combined_df['Dates'] = pd.to_datetime(combined_df['Dates'])\n",
    "\n",
    "# Sort the DataFrame by the 'Dates' column\n",
    "combined_df.sort_values(by='Dates', inplace=True)\n",
    "\n",
    "# Rename 'Dates' column to 'Day'\n",
    "combined_df.rename(columns={'Dates': 'Day'}, inplace=True)\n",
    "\n",
    "# Reshape the dataframe to long format\n",
    "df_long = pd.melt(combined_df, id_vars=['Day', 'Station', 'Unit'], var_name='Time', value_name='Power Generation (MW)')\n",
    "\n",
    "# Summarize the data based on daily frequency\n",
    "daily_time_series = df_long.groupby('Day').sum().reset_index()\n",
    "\n",
    "# Convert the 'Day' column to DD/MM/YYYY format\n",
    "daily_time_series['Day'] = daily_time_series['Day'].dt.strftime('%Y-%m-%d')\n",
    "daily_time_series\n",
    "\n",
    "# Drop 'Station', 'Unit', and 'Time' columns as they are now redundant\n",
    "daily_time_series.drop(columns=['Station', 'Unit', 'Time'], inplace=True) # For daily basis, drop Month column, but if monthly drop Day column\n",
    "daily_time_series\n",
    "\n",
    "# Save the combined dataframe to a new Excel file in the target folder\n",
    "output_file = os.path.join(destination_folder, f'Total Power generation {year}.xlsx')\n",
    "daily_time_series.to_excel(output_file, index=False)\n"
   ]
  },
  {
   "cell_type": "code",
   "execution_count": null,
   "metadata": {},
   "outputs": [],
   "source": []
  }
 ],
 "metadata": {
  "kernelspec": {
   "display_name": "Research_Project_Master",
   "language": "python",
   "name": "python3"
  },
  "language_info": {
   "codemirror_mode": {
    "name": "ipython",
    "version": 3
   },
   "file_extension": ".py",
   "mimetype": "text/x-python",
   "name": "python",
   "nbconvert_exporter": "python",
   "pygments_lexer": "ipython3",
   "version": "3.11.9"
  }
 },
 "nbformat": 4,
 "nbformat_minor": 2
}
