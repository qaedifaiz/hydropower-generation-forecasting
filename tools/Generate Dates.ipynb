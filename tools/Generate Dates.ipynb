{
 "cells": [
  {
   "cell_type": "code",
   "execution_count": null,
   "metadata": {
    "ExecuteTime": {
     "end_time": "2024-10-12T14:38:51.995461Z",
     "start_time": "2024-10-12T14:38:51.986413Z"
    }
   },
   "outputs": [
    {
     "name": "stdout",
     "output_type": "stream",
     "text": [
      "CSV file saved to: C:\\Users\\Qaedi's PC\\Documents\\Master of Data Science\\Research Project\\Dataset\\Power Generation\\2019\\dates.csv\n"
     ]
    }
   ],
   "source": [
    "import csv\n",
    "from datetime import datetime, timedelta\n",
    "import os\n",
    "\n",
    "# Function to generate dates for a given month\n",
    "def generate_dates(year, month):\n",
    "    start_date = datetime(year, month, 1)\n",
    "    end_date = datetime(year, month + 1, 1) if month < 12 else datetime(year + 1, 1, 1)\n",
    "    dates = [start_date + timedelta(days=i) for i in range((end_date - start_date).days)]\n",
    "    return dates\n",
    "\n",
    "# Generate dates for Feb 2023 \n",
    "dates = generate_dates(2019, 12)\n",
    "\n",
    "# Duplicate each date twice\n",
    "duplicated_dates = [date for date in dates for _ in range(4)]\n",
    "\n",
    "# Specify the target directory\n",
    "target_directory = r\"FOLDER PATH PER YEARS\"\n",
    "\n",
    "# Write the dates to a CSV file in the target directory\n",
    "csv_file_path = os.path.join(target_directory, 'dates.csv')\n",
    "\n",
    "with open(csv_file_path, 'w', newline='') as csvfile:\n",
    "    writer = csv.writer(csvfile)\n",
    "    for date in duplicated_dates:\n",
    "        writer.writerow([date.strftime('%d/%m/%Y')])\n",
    "\n",
    "print(f\"CSV file saved to: {csv_file_path}\")"
   ]
  },
  {
   "cell_type": "code",
   "execution_count": null,
   "metadata": {},
   "outputs": [],
   "source": []
  }
 ],
 "metadata": {
  "kernelspec": {
   "display_name": "Research_Project_Master",
   "language": "python",
   "name": "python3"
  },
  "language_info": {
   "codemirror_mode": {
    "name": "ipython",
    "version": 3
   },
   "file_extension": ".py",
   "mimetype": "text/x-python",
   "name": "python",
   "nbconvert_exporter": "python",
   "pygments_lexer": "ipython3",
   "version": "3.11.8"
  }
 },
 "nbformat": 4,
 "nbformat_minor": 2
}
