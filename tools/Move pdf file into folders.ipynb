{
 "cells": [
  {
   "cell_type": "code",
   "execution_count": 18,
   "metadata": {},
   "outputs": [],
   "source": [
    "import os\n",
    "import shutil"
   ]
  },
  {
   "cell_type": "code",
   "execution_count": null,
   "metadata": {},
   "outputs": [
    {
     "name": "stdout",
     "output_type": "stream",
     "text": [
      "Moved 1 out of 31 files.\n",
      "Moved 2 out of 31 files.\n",
      "Moved 3 out of 31 files.\n",
      "Moved 4 out of 31 files.\n",
      "Moved 5 out of 31 files.\n",
      "Moved 6 out of 31 files.\n",
      "Moved 7 out of 31 files.\n",
      "Moved 8 out of 31 files.\n",
      "Moved 9 out of 31 files.\n",
      "Moved 10 out of 31 files.\n",
      "Moved 11 out of 31 files.\n",
      "Moved 12 out of 31 files.\n",
      "Moved 13 out of 31 files.\n",
      "Moved 14 out of 31 files.\n",
      "Moved 15 out of 31 files.\n",
      "Moved 16 out of 31 files.\n",
      "Moved 17 out of 31 files.\n",
      "Moved 18 out of 31 files.\n",
      "Moved 19 out of 31 files.\n",
      "Moved 20 out of 31 files.\n",
      "Moved 21 out of 31 files.\n",
      "Moved 22 out of 31 files.\n",
      "Moved 23 out of 31 files.\n",
      "Moved 24 out of 31 files.\n",
      "Moved 25 out of 31 files.\n",
      "Moved 26 out of 31 files.\n",
      "Moved 27 out of 31 files.\n",
      "Moved 28 out of 31 files.\n",
      "Moved 29 out of 31 files.\n",
      "Moved 30 out of 31 files.\n",
      "Moved 31 out of 31 files.\n"
     ]
    }
   ],
   "source": [
    "# Change this to the path of your target directory\n",
    "target_directory = r\"target directory: month - year (Example: January 2019)\"\n",
    "\n",
    "def create_folders_and_move_pdfs(directory):\n",
    "    # List all files in the directory\n",
    "    files = os.listdir(directory)\n",
    "\n",
    "    # Filter out non-PDF files\n",
    "    pdf_files = [file for file in files if file.endswith('.pdf')]\n",
    "        \n",
    "    # Check if the directory is empty or contains no PDF files\n",
    "    if not files:\n",
    "        print(\"Directory is empty.\")\n",
    "    elif not pdf_files:\n",
    "        print(\"No PDF files found in the directory.\")\n",
    "    else:\n",
    "        total_files = len(pdf_files)\n",
    "    \n",
    "    # Counter for tracking progress\n",
    "    moved_files = 0\n",
    "\n",
    "    # Loop through each file\n",
    "    for file in files:\n",
    "        if file.endswith('.pdf'):\n",
    "            # Extract the file name without extension\n",
    "            file_name = os.path.splitext(file)[0]\n",
    "            \n",
    "            # Create a folder based on the file name\n",
    "            folder_path = os.path.join(directory, file_name)\n",
    "            os.makedirs(folder_path, exist_ok=True)\n",
    "            \n",
    "            # Move the PDF file into the created folder\n",
    "            file_path = os.path.join(directory, file)\n",
    "            shutil.move(file_path, os.path.join(folder_path, file))\n",
    "    \n",
    "            # Increment moved_files counter\n",
    "            moved_files += 1\n",
    "            \n",
    "            # Print progress\n",
    "            print(f\"Moved {moved_files} out of {total_files} files.\")\n",
    "\n",
    "            \n",
    "\n",
    "create_folders_and_move_pdfs(target_directory)"
   ]
  }
 ],
 "metadata": {
  "kernelspec": {
   "display_name": "Research_Project_Master",
   "language": "python",
   "name": "python3"
  },
  "language_info": {
   "codemirror_mode": {
    "name": "ipython",
    "version": 3
   },
   "file_extension": ".py",
   "mimetype": "text/x-python",
   "name": "python",
   "nbconvert_exporter": "python",
   "pygments_lexer": "ipython3",
   "version": "3.11.8"
  }
 },
 "nbformat": 4,
 "nbformat_minor": 2
}
